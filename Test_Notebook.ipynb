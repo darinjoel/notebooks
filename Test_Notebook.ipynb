{
 "cells": [
  {
   "cell_type": "code",
   "execution_count": 1,
   "metadata": {},
   "outputs": [
    {
     "name": "stderr",
     "output_type": "stream",
     "text": [
      "Using TensorFlow backend.\n"
     ]
    }
   ],
   "source": [
    "import time\n",
    "import os\n",
    "import numpy\n",
    "import pandas\n",
    "from keras.models import Sequential\n",
    "from keras.layers import Dense\n",
    "from keras.wrappers.scikit_learn import KerasRegressor\n",
    "from keras.callbacks import TensorBoard\n",
    "from sklearn.model_selection import cross_val_score\n",
    "from sklearn.model_selection import KFold\n",
    "from sklearn.preprocessing import StandardScaler\n",
    "from sklearn.pipeline import Pipeline"
   ]
  },
  {
   "cell_type": "code",
   "execution_count": 6,
   "metadata": {},
   "outputs": [
    {
     "name": "stdout",
     "output_type": "stream",
     "text": [
      "length of X is  506\n"
     ]
    }
   ],
   "source": [
    "filepath = 'C:/Users/210061884/Documents/Laptop_Shared/local/ANN_Tutorial/housing.csv'\n",
    "dataframe = pandas.read_csv(filepath, delim_whitespace=True, header=None)\n",
    "dataset = dataframe.values\n",
    "# split into input (X) and output (Y) variables\n",
    "X = dataset[:,0:13]  # Want to split data into x and y. Change '13' to number of input parametrs we want to train our model with.\n",
    "Y = dataset[:,13]    # Want to split data into x and y. Change '13' to number of input parametrs we want to train our model with.\n",
    "print(\"length of X is \", len(X))"
   ]
  },
  {
   "cell_type": "code",
   "execution_count": 17,
   "metadata": {},
   "outputs": [],
   "source": [
    "# define base model\n",
    "def baseline_model():\n",
    "\t# create model\n",
    "\tmodel = Sequential()\n",
    "\tmodel.add(Dense(13, input_dim=13, kernel_initializer='normal', activation='relu')) # Change num of nodes to number of input parameters\n",
    "\tmodel.add(Dense(52,activation='relu'))\n",
    "\tmodel.add(Dense(1, kernel_initializer='normal'))    # Change change the number of total layers depending on what we want to do\n",
    "\t\n",
    "    # Compile model\n",
    "\tmodel.compile(loss='mean_squared_error', optimizer='adam')\n",
    "\treturn model"
   ]
  },
  {
   "cell_type": "code",
   "execution_count": 18,
   "metadata": {},
   "outputs": [],
   "source": [
    "cb = TensorBoard(\n",
    "        log_dir='./logs',\n",
    "        histogram_freq=0,\n",
    "        write_graph=True,\n",
    "        write_images=False,\n",
    "        embeddings_freq=100,\n",
    "        embeddings_layer_names=None,\n",
    "        embeddings_metadata=None)"
   ]
  },
  {
   "cell_type": "code",
   "execution_count": 1,
   "metadata": {
    "scrolled": true
   },
   "outputs": [
    {
     "name": "stdout",
     "output_type": "stream",
     "text": [
      "IM JUST TESTING HERE?!:!:#>?!@>#!@#:>!#!@\n"
     ]
    }
   ],
   "source": [
    "print(\"IM JUST TESTING HERE?!:!:#>?!@>#!@#:>!#!@\")"
   ]
  }
 ],
 "metadata": {
  "kernelspec": {
   "display_name": "Python 3",
   "language": "python",
   "name": "python3"
  },
  "language_info": {
   "codemirror_mode": {
    "name": "ipython",
    "version": 3
   },
   "file_extension": ".py",
   "mimetype": "text/x-python",
   "name": "python",
   "nbconvert_exporter": "python",
   "pygments_lexer": "ipython3",
   "version": "3.6.5"
  }
 },
 "nbformat": 4,
 "nbformat_minor": 2
}
