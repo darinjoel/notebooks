{
 "cells": [
  {
   "cell_type": "code",
   "execution_count": 2,
   "metadata": {},
   "outputs": [
    {
     "name": "stderr",
     "output_type": "stream",
     "text": [
      "Using TensorFlow backend.\n"
     ]
    }
   ],
   "source": [
    "import numpy as np\n",
    "import pandas as pd\n",
    "import matplotlib.pyplot as plt\n",
    "import tensorflow as tf\n",
    "import keras as k\n",
    "from scipy.stats import norm\n",
    "import matplotlib.mlab as mlab"
   ]
  },
  {
   "cell_type": "code",
   "execution_count": 3,
   "metadata": {},
   "outputs": [],
   "source": [
    "def changeFigSize(newDims):\n",
    "    fig_size = plt.rcParams['figure.figsize']\n",
    "    print(f\"Current size is {fig_size}\")\n",
    "    plt.rcParams['figure.figsize'] = newDims\n",
    "    print(f\"New size is {plt.rcParams['figure.figsize']}\")"
   ]
  },
  {
   "cell_type": "code",
   "execution_count": 4,
   "metadata": {},
   "outputs": [
    {
     "name": "stdout",
     "output_type": "stream",
     "text": [
      "(array([], dtype=int64), array([], dtype=int64))\n",
      "mu and sigma are 35.6744262295082 and 15.601064611766539\n"
     ]
    },
    {
     "name": "stderr",
     "output_type": "stream",
     "text": [
      "c:\\users\\210061884\\appdata\\local\\programs\\python\\python36\\lib\\site-packages\\ipykernel_launcher.py:21: MatplotlibDeprecationWarning: scipy.stats.norm.pdf\n"
     ]
    },
    {
     "data": {
      "image/png": "[encoded data removed]",
      "text/plain": [
       "<Figure size 432x288 with 1 Axes>"
      ]
     },
     "metadata": {},
     "output_type": "display_data"
    }
   ],
   "source": [
    "# Import data with pandas\n",
    "train = pd.read_csv('train.csv')\n",
    "train.isnull()\n",
    "train = train.dropna(how='any')\n",
    "print(np.where(train.isnull()))\n",
    "\n",
    "P_id = train['PassengerId']\n",
    "Survived = train['Survived']\n",
    "P_class = train['Pclass']\n",
    "P_name = train['Name']\n",
    "P_sex = train['Sex']\n",
    "P_age = train['Age']\n",
    "\n",
    "(mu, sigma) = norm.fit(P_age)\n",
    "\n",
    "print(f\"mu and sigma are {mu} and {sigma}\")\n",
    "\n",
    "fig = plt.figure()\n",
    "n, bins, patches = plt.hist(P_age, bins='auto', density='true', facecolor='green', alpha=0.75)\n",
    "\n",
    "fit = mlab.normpdf(bins, mu, sigma)\n",
    "l = plt.plot(bins,fit, 'r--',linewidth=2)\n",
    "plt.xlabel('Age')\n",
    "plt.ylabel('PDF')\n",
    "\n",
    "#changeFigSize([10,6])\n",
    "plt.grid(True)\n",
    "plt.show()\n",
    "plt.close()\n"
   ]
  },
  {
   "cell_type": "code",
   "execution_count": 61,
   "metadata": {},
   "outputs": [
    {
     "name": "stdout",
     "output_type": "stream",
     "text": [
      "(0.926, 10.25]\n",
      "(0.926, 10.25]\n",
      "(0.926, 10.25]\n",
      "(10.25, 19.5]\n",
      "(0.926, 10.25]\n",
      "(19.5, 28.75]\n",
      "(10.25, 19.5]\n",
      "(19.5, 28.75]\n",
      "(47.25, 56.5]\n",
      "(56.5, 65.75]\n",
      "(65.75, 75.0]\n",
      "(38.0, 47.25]\n",
      "(28.75, 38.0]\n",
      "(19.5, 28.75]\n",
      "(10.25, 19.5]\n",
      "(10.25, 19.5]\n",
      "(10.25, 19.5]\n",
      "(10.25, 19.5]\n",
      "(10.25, 19.5]\n",
      "(10.25, 19.5]\n",
      "(65.75, 75.0]\n",
      "(10.25, 19.5]\n"
     ]
    }
   ],
   "source": [
    "\n",
    "a = pd.DataFrame({'data': np.array([1,2,3,13,8,20,13,22,50,60,75,45,30,22,11,12,13,14,15,16,71,18])})\n",
    "\n",
    "b = pd.cut(a['data'],8, retbins=True)\n",
    "c = b[1]\n",
    "#print(b[0][0])\n",
    "#print(c)\n",
    "num_bins = len(c)-1\n",
    "bin_dict = {}\n",
    "#print(len(b[0]))\n",
    "for i in range(len(b[0])):\n",
    "    print(b[0][i])\n",
    "    temp = \n",
    "for i in range(num_bins):\n",
    "    #print(i)\n",
    "    bin_dict[f'bin_{i+1}'] = f'testvar_{i}'\n",
    "\n",
    "#print(bin_dict)"
   ]
  }
 ],
 "metadata": {
  "kernelspec": {
   "display_name": "Python 3",
   "language": "python",
   "name": "python3"
  },
  "language_info": {
   "codemirror_mode": {
    "name": "ipython",
    "version": 3
   },
   "file_extension": ".py",
   "mimetype": "text/x-python",
   "name": "python",
   "nbconvert_exporter": "python",
   "pygments_lexer": "ipython3",
   "version": "3.6.5"
  }
 },
 "nbformat": 4,
 "nbformat_minor": 2
}
